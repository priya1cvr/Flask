{
 "cells": [
  {
   "cell_type": "code",
   "execution_count": 1,
   "id": "67d585e5-5e00-474c-8183-5d848ada7cea",
   "metadata": {},
   "outputs": [],
   "source": [
    "import os\n",
    "import wave\n",
    "import time\n",
    "import pickle\n",
    "import pyaudio\n",
    "import warnings\n",
    "import numpy as np\n",
    "from sklearn import preprocessing\n",
    "from scipy.io.wavfile import read\n",
    "import python_speech_features as mfcc\n",
    "from sklearn.mixture import GaussianMixture "
   ]
  },
  {
   "cell_type": "code",
   "execution_count": 2,
   "id": "00b051ea-578c-499a-8c5f-2f6b9366a457",
   "metadata": {},
   "outputs": [],
   "source": [
    "def record_audio_train():\n",
    "\tName =(input(\"Please Enter Your Name:\"))\n",
    "\tfor count in range(5):\n",
    "\t\tFORMAT = pyaudio.paInt16\n",
    "\t\tCHANNELS = 1\n",
    "\t\tRATE = 44100\n",
    "\t\tCHUNK = 512\n",
    "\t\tRECORD_SECONDS = 10\n",
    "\t\tdevice_index = 2\n",
    "\t\taudio = pyaudio.PyAudio()\n",
    "\t\tprint(\"----------------------record device list---------------------\")\n",
    "\t\tinfo = audio.get_host_api_info_by_index(0)\n",
    "\t\tnumdevices = info.get('deviceCount')\n",
    "\t\tfor i in range(0, numdevices):\n",
    "\t\t        if (audio.get_device_info_by_host_api_device_index(0, i).get('maxInputChannels')) > 0:\n",
    "\t\t            print(\"Input Device id \", i, \" - \", audio.get_device_info_by_host_api_device_index(0, i).get('name'))\n",
    "\t\tprint(\"-------------------------------------------------------------\")\n",
    "\t\tindex = int(input())\t\t\n",
    "\t\tprint(\"recording via index \"+str(index))\n",
    "\t\tstream = audio.open(format=FORMAT, channels=CHANNELS,\n",
    "\t\t                rate=RATE, input=True,input_device_index = index,\n",
    "\t\t                frames_per_buffer=CHUNK)\n",
    "\t\tprint (\"recording started\")\n",
    "\t\tRecordframes = []\n",
    "\t\tfor i in range(0, int(RATE / CHUNK * RECORD_SECONDS)):\n",
    "\t\t    data = stream.read(CHUNK)\n",
    "\t\t    Recordframes.append(data)\n",
    "\t\tprint (\"recording stopped\")\n",
    "\t\tstream.stop_stream()\n",
    "\t\tstream.close()\n",
    "\t\taudio.terminate()\n",
    "\t\tOUTPUT_FILENAME=Name+\"-sample\"+str(count)+\".wav\"\n",
    "\t\tWAVE_OUTPUT_FILENAME=os.path.join(\"training_set\",OUTPUT_FILENAME)\n",
    "\t\ttrainedfilelist = open(\"training_set_addition.txt\", 'a')\n",
    "\t\ttrainedfilelist.write(OUTPUT_FILENAME+\"\\n\")\n",
    "\t\twaveFile = wave.open(WAVE_OUTPUT_FILENAME, 'wb')\n",
    "\t\twaveFile.setnchannels(CHANNELS)\n",
    "\t\twaveFile.setsampwidth(audio.get_sample_size(FORMAT))\n",
    "\t\twaveFile.setframerate(RATE)\n",
    "\t\twaveFile.writeframes(b''.join(Recordframes))\n",
    "\t\twaveFile.close()"
   ]
  },
  {
   "cell_type": "code",
   "execution_count": 3,
   "id": "a6462e1a-a873-43de-8793-d0086af0d9bb",
   "metadata": {},
   "outputs": [
    {
     "name": "stdin",
     "output_type": "stream",
     "text": [
      "Please Enter Your Name: Sipa\n"
     ]
    },
    {
     "name": "stdout",
     "output_type": "stream",
     "text": [
      "----------------------record device list---------------------\n",
      "Input Device id  0  -  iPhone Microphone\n",
      "Input Device id  1  -  MacBook Air Microphone\n",
      "-------------------------------------------------------------\n"
     ]
    },
    {
     "name": "stdin",
     "output_type": "stream",
     "text": [
      " 1\n"
     ]
    },
    {
     "name": "stdout",
     "output_type": "stream",
     "text": [
      "recording via index 1\n",
      "recording started\n",
      "recording stopped\n",
      "----------------------record device list---------------------\n",
      "Input Device id  0  -  iPhone Microphone\n",
      "Input Device id  1  -  MacBook Air Microphone\n",
      "-------------------------------------------------------------\n"
     ]
    },
    {
     "name": "stdin",
     "output_type": "stream",
     "text": [
      " 1\n"
     ]
    },
    {
     "name": "stdout",
     "output_type": "stream",
     "text": [
      "recording via index 1\n",
      "recording started\n",
      "recording stopped\n",
      "----------------------record device list---------------------\n",
      "Input Device id  0  -  iPhone Microphone\n",
      "Input Device id  1  -  MacBook Air Microphone\n",
      "-------------------------------------------------------------\n"
     ]
    },
    {
     "name": "stdin",
     "output_type": "stream",
     "text": [
      " 1\n"
     ]
    },
    {
     "name": "stdout",
     "output_type": "stream",
     "text": [
      "recording via index 1\n",
      "recording started\n",
      "recording stopped\n",
      "----------------------record device list---------------------\n",
      "Input Device id  0  -  iPhone Microphone\n",
      "Input Device id  1  -  MacBook Air Microphone\n",
      "-------------------------------------------------------------\n"
     ]
    },
    {
     "name": "stdin",
     "output_type": "stream",
     "text": [
      " 1\n"
     ]
    },
    {
     "name": "stdout",
     "output_type": "stream",
     "text": [
      "recording via index 1\n",
      "recording started\n",
      "recording stopped\n",
      "----------------------record device list---------------------\n",
      "Input Device id  0  -  iPhone Microphone\n",
      "Input Device id  1  -  MacBook Air Microphone\n",
      "-------------------------------------------------------------\n"
     ]
    },
    {
     "name": "stdin",
     "output_type": "stream",
     "text": [
      " 1\n"
     ]
    },
    {
     "name": "stdout",
     "output_type": "stream",
     "text": [
      "recording via index 1\n",
      "recording started\n",
      "recording stopped\n"
     ]
    }
   ],
   "source": [
    "record_audio_train()"
   ]
  },
  {
   "cell_type": "code",
   "execution_count": 4,
   "id": "127e9a19-4db4-49dd-be28-e730159eb7c7",
   "metadata": {},
   "outputs": [],
   "source": [
    "def calculate_delta(array):\n",
    "   \n",
    "    rows,cols = array.shape\n",
    "    print(rows)\n",
    "    print(cols)\n",
    "    deltas = np.zeros((rows,20))\n",
    "    N = 2\n",
    "    for i in range(rows):\n",
    "        index = []\n",
    "        j = 1\n",
    "        while j <= N:\n",
    "            if i-j < 0:\n",
    "              first =0\n",
    "            else:\n",
    "              first = i-j\n",
    "            if i+j > rows-1:\n",
    "                second = rows-1\n",
    "            else:\n",
    "                second = i+j \n",
    "            index.append((second,first))\n",
    "            j+=1\n",
    "        deltas[i] = ( array[index[0][0]]-array[index[0][1]] + (2 * (array[index[1][0]]-array[index[1][1]])) ) / 10\n",
    "    return deltas"
   ]
  },
  {
   "cell_type": "code",
   "execution_count": 5,
   "id": "a60c8221-6f84-46c6-a1e3-be572cf8e110",
   "metadata": {},
   "outputs": [],
   "source": [
    "def extract_features(audio,rate):\n",
    "       \n",
    "    mfcc_feature = mfcc.mfcc(audio,rate, 0.025, 0.01,20,nfft = 1200, appendEnergy = True)    \n",
    "    mfcc_feature = preprocessing.scale(mfcc_feature)\n",
    "    print(mfcc_feature)\n",
    "    delta = calculate_delta(mfcc_feature)\n",
    "    combined = np.hstack((mfcc_feature,delta)) \n",
    "    return combined"
   ]
  },
  {
   "cell_type": "code",
   "execution_count": 6,
   "id": "cefab344-8ffd-47ab-b611-9bc1a51f5527",
   "metadata": {},
   "outputs": [],
   "source": [
    "def train_model():\n",
    "\n",
    "\tsource   = \"/Users/priyabratkumarbishwal/Documents/Techie/Python/SCBAccelerate/training_set/\"   \n",
    "\tdest = \"/Users/priyabratkumarbishwal/Documents/Techie/Python/SCBAccelerate/trained_models/\"\n",
    "\ttrain_file = \"/Users/priyabratkumarbishwal/Documents/Techie/Python/SCBAccelerate/training_set_addition.txt\"        \n",
    "\tfile_paths = open(train_file,'r')\n",
    "\tcount = 1\n",
    "\tfeatures = np.asarray(())\n",
    "\tfor path in file_paths:    \n",
    "\t    path = path.strip()   \n",
    "\t    print(path)\n",
    "\n",
    "\t    sr,audio = read(source + path)\n",
    "\t    print(sr)\n",
    "\t    vector   = extract_features(audio,sr)\n",
    "\t    \n",
    "\t    if features.size == 0:\n",
    "\t        features = vector\n",
    "\t    else:\n",
    "\t        features = np.vstack((features, vector))\n",
    "\n",
    "\t    if count == 5:    \n",
    "\t        gmm = GaussianMixture(n_components = 6, max_iter = 200, covariance_type='diag',n_init = 3)\n",
    "\t        gmm.fit(features)\n",
    "\t        \n",
    "\t        # dumping the trained gaussian model\n",
    "\t        picklefile = path.split(\"-\")[0]+\".gmm\"\n",
    "\t        pickle.dump(gmm,open(dest + picklefile,'wb'))\n",
    "\t        print('+ modeling completed for speaker:',picklefile,\" with data point = \",features.shape)   \n",
    "\t        features = np.asarray(())\n",
    "\t        count = 0\n",
    "\t    count = count + 1"
   ]
  },
  {
   "cell_type": "code",
   "execution_count": 11,
   "id": "474550aa-be64-4bb2-9d81-9026267b6b2a",
   "metadata": {},
   "outputs": [],
   "source": [
    "#record_audio_train()"
   ]
  },
  {
   "cell_type": "code",
   "execution_count": 7,
   "id": "51327b49-dcbd-4479-9056-4a35b6349386",
   "metadata": {},
   "outputs": [
    {
     "name": "stdout",
     "output_type": "stream",
     "text": [
      "Priyansh-sample0.wav\n",
      "44100\n",
      "[[ 0.27252405 -2.03240848 -0.70247871 ... -0.38403691 -0.41375112\n",
      "  -0.42167733]\n",
      " [-0.77080081 -1.59094896 -0.90116633 ... -0.64425489 -1.23474692\n",
      "   0.37444885]\n",
      " [-2.63832561 -3.53059396  1.70238887 ...  0.08704399 -0.15623069\n",
      "   0.19783276]\n",
      " ...\n",
      " [ 0.59955301  0.82918218  0.95265061 ... -0.41484449  0.41236833\n",
      "  -1.66156727]\n",
      " [ 0.57337776  0.85380752  0.83651504 ... -0.5753309   0.28093051\n",
      "  -1.03487406]\n",
      " [ 0.39526209  0.88310135  0.81172593 ... -0.09498072  0.01155935\n",
      "  -1.70212065]]\n",
      "999\n",
      "20\n",
      "Priyansh-sample1.wav\n",
      "44100\n",
      "[[-0.41872877  0.52501222  1.27990446 ... -0.25137651 -0.65050839\n",
      "  -0.93515255]\n",
      " [-2.39545513 -0.81015643  0.79010915 ...  0.0469533  -1.43909096\n",
      "   0.31388676]\n",
      " [-4.20034601 -3.65676021  2.15883991 ... -0.21530978 -0.71690714\n",
      "   0.21929557]\n",
      " ...\n",
      " [-2.48918559 -0.11065332  1.12984932 ...  0.52717947  0.30178685\n",
      "   0.49274299]\n",
      " [-2.46880586 -0.12219681  1.10737183 ... -0.27794888 -0.09790758\n",
      "   0.55071312]\n",
      " [-2.76196998 -0.27029692  0.8874822  ... -0.70830404 -0.95505854\n",
      "   0.11316989]]\n",
      "999\n",
      "20\n",
      "Priyansh-sample2.wav\n",
      "44100\n",
      "[[-2.24540149 -0.41722144  0.14396353 ... -0.15407553 -0.73380544\n",
      "   0.29999295]\n",
      " [-2.84777513 -1.44103998  0.17758059 ... -0.27190501 -0.59020825\n",
      "  -0.29954902]\n",
      " [-3.19376418 -3.19241156  0.97772318 ...  0.08102601 -1.12205121\n",
      "  -0.99548776]\n",
      " ...\n",
      " [ 0.05242795  0.27012142  0.96879573 ... -1.07073419  0.57079705\n",
      "  -0.66486986]\n",
      " [ 0.22892512  0.28296962  1.02386427 ... -0.70749438  1.15486519\n",
      "  -0.77566451]\n",
      " [ 0.19065213  0.44913512  0.98554526 ... -0.33354391  1.28439448\n",
      "   0.63506119]]\n",
      "999\n",
      "20\n",
      "Priyansh-sample3.wav\n",
      "44100\n",
      "[[ 0.38903709 -0.19165523  0.67982255 ...  1.7885078   0.19392284\n",
      "  -0.4340002 ]\n",
      " [-1.12846674 -1.40050462 -0.16495436 ...  0.07463296 -0.99254764\n",
      "  -0.19403252]\n",
      " [-4.01056575 -3.57378461  0.58209245 ...  0.84850152  0.37537552\n",
      "   1.16145398]\n",
      " ...\n",
      " [-1.82796664 -0.35876899 -0.94596296 ... -0.48432946 -1.41692054\n",
      "  -0.19093158]\n",
      " [-1.7902841  -0.68258406 -1.23037455 ...  0.1561062  -1.15201353\n",
      "  -0.62882829]\n",
      " [-1.94212339 -0.71865987 -1.31769613 ... -0.20419775 -0.98080251\n",
      "  -0.8613904 ]]\n",
      "999\n",
      "20\n",
      "Priyansh-sample4.wav\n",
      "44100\n",
      "[[-1.49831961  0.12856657 -0.98096146 ... -1.35493448 -0.7122569\n",
      "   0.40949629]\n",
      " [-2.40746867 -1.09090406  0.77939482 ... -0.64121294 -0.28972079\n",
      "   0.27753139]\n",
      " [-2.59266209 -2.72364113  1.13529145 ...  0.45134093 -0.54712413\n",
      "  -0.38318629]\n",
      " ...\n",
      " [ 1.02048232  1.02875797  1.10496285 ... -0.98118891 -1.48154459\n",
      "  -1.60856627]\n",
      " [ 1.08562504  1.09130246  1.32398613 ... -0.67938929 -1.9466395\n",
      "  -1.20189244]\n",
      " [ 0.9451228   1.10846234  1.21049936 ... -0.67347042 -1.65840699\n",
      "  -0.75433648]]\n",
      "999\n",
      "20\n",
      "+ modeling completed for speaker: Priyansh.gmm  with data point =  (4995, 40)\n",
      "Sipa-sample0.wav\n",
      "44100\n",
      "[[-0.85128451 -0.45126903 -1.11704729 ... -0.14891222  0.56743197\n",
      "   0.8388303 ]\n",
      " [-2.15710486 -1.27402382 -0.60223897 ... -0.33346559  0.12989494\n",
      "  -0.08512001]\n",
      " [-3.18707835 -2.66163467  2.16231247 ...  1.11733856  0.07700707\n",
      "   0.34104762]\n",
      " ...\n",
      " [-0.64253021 -0.47356322  1.90514024 ... -0.91084379 -0.38118553\n",
      "   0.82278865]\n",
      " [-0.75985301 -0.51613277  1.9090823  ... -0.92232693  0.09789564\n",
      "   1.02176218]\n",
      " [-0.93119342 -0.55808381  1.96907589 ... -1.09809312  0.42512429\n",
      "   1.25312146]]\n",
      "999\n",
      "20\n",
      "Sipa-sample1.wav\n",
      "44100\n",
      "[[-0.65375479 -1.14449333  0.98240986 ...  0.12123049 -0.69731829\n",
      "   0.7329843 ]\n",
      " [-1.47049673 -0.62903197  1.16881899 ...  0.29150342 -1.30078556\n",
      "   1.40138417]\n",
      " [-1.72056121 -1.01894943  2.27464705 ...  1.18730533 -0.22801983\n",
      "   0.55677839]\n",
      " ...\n",
      " [-1.46576557 -0.29806425  0.04241869 ...  0.32581034 -0.38439593\n",
      "   0.34400445]\n",
      " [-1.40159849 -0.21407398  0.08846774 ...  0.10200699 -0.0328029\n",
      "   0.54092159]\n",
      " [-1.52564557 -0.2384004   0.16916185 ... -0.45329894  0.06063477\n",
      "   0.92626057]]\n",
      "999\n",
      "20\n",
      "Sipa-sample2.wav\n",
      "44100\n",
      "[[-2.34782424 -0.44160697 -0.12435269 ... -0.21935266  0.04558333\n",
      "   1.11470549]\n",
      " [-3.2553454  -1.16675676  0.45641446 ... -0.17856916  0.10178369\n",
      "   1.13778787]\n",
      " [-3.53663694 -2.5655151   1.46707488 ... -0.51437886 -0.82289112\n",
      "   0.6568071 ]\n",
      " ...\n",
      " [-2.49399032  0.17154816  1.88983088 ...  0.53991651  0.49756994\n",
      "   2.03848894]\n",
      " [-2.56255421  0.12337973  1.82123616 ...  0.44653067  0.3254022\n",
      "   1.7499082 ]\n",
      " [-2.77809081  0.05340312  1.59431318 ... -0.14196338  0.17702867\n",
      "   1.87076176]]\n",
      "999\n",
      "20\n",
      "Sipa-sample3.wav\n",
      "44100\n",
      "[[-1.77547264 -0.78247027 -0.13577922 ...  0.34730123  0.91831714\n",
      "   1.04717741]\n",
      " [-2.76833286 -0.87359508  1.98450621 ... -0.43203893 -0.25895947\n",
      "   0.92290104]\n",
      " [-2.32971844 -0.24740727  0.96860703 ...  0.79912763  0.65922078\n",
      "   0.78095729]\n",
      " ...\n",
      " [ 0.88039195  0.27486022  0.1536078  ...  3.96785547  2.43446232\n",
      "   0.31651058]\n",
      " [ 0.984941    0.49386344  0.0871086  ...  2.77216769  0.9844412\n",
      "  -0.82438097]\n",
      " [ 0.85838578  0.31533594 -0.34668029 ...  2.1762425   0.0500666\n",
      "  -1.21109509]]\n",
      "999\n",
      "20\n",
      "Sipa-sample4.wav\n",
      "44100\n",
      "[[-0.11920692 -0.16194989  0.01982159 ...  2.61269798  1.59218644\n",
      "   0.39375052]\n",
      " [-1.77258344 -0.47245035  0.32925308 ...  0.20548105  0.15657147\n",
      "   1.03293263]\n",
      " [-4.21274633 -0.44840245  1.16804496 ... -0.20968437 -2.24501879\n",
      "  -0.67735618]\n",
      " ...\n",
      " [ 0.20468157  0.27651019 -0.72866236 ... -0.39234848 -0.64289224\n",
      "  -1.42670162]\n",
      " [-0.10152106  0.41013364 -0.57447408 ... -0.87563171 -1.26362417\n",
      "  -1.53903662]\n",
      " [-0.6267677   0.42459669 -0.27015196 ... -0.68089434 -0.80739253\n",
      "  -0.66440935]]\n",
      "999\n",
      "20\n",
      "+ modeling completed for speaker: Sipa.gmm  with data point =  (4995, 40)\n"
     ]
    }
   ],
   "source": [
    "train_model()"
   ]
  },
  {
   "cell_type": "code",
   "execution_count": 9,
   "id": "0ac38fe4-f06c-4d51-94a5-038d3915cfe8",
   "metadata": {},
   "outputs": [],
   "source": [
    "def record_audio_test():\n",
    "\n",
    "\tFORMAT = pyaudio.paInt16\n",
    "\tCHANNELS = 1\n",
    "\tRATE = 44100\n",
    "\tCHUNK = 512\n",
    "\tRECORD_SECONDS = 10\n",
    "\tdevice_index = 2\n",
    "\taudio = pyaudio.PyAudio()\n",
    "\tprint(\"----------------------record device list---------------------\")\n",
    "\tinfo = audio.get_host_api_info_by_index(0)\n",
    "\tnumdevices = info.get('deviceCount')\n",
    "\tfor i in range(0, numdevices):\n",
    "\t        if (audio.get_device_info_by_host_api_device_index(0, i).get('maxInputChannels')) > 0:\n",
    "\t            print(\"Input Device id \", i, \" - \", audio.get_device_info_by_host_api_device_index(0, i).get('name'))\n",
    "\tprint(\"-------------------------------------------------------------\")\n",
    "\tindex = int(input())\t\t\n",
    "\tprint(\"recording via index \"+str(index))\n",
    "\tstream = audio.open(format=FORMAT, channels=CHANNELS,\n",
    "\t                rate=RATE, input=True,input_device_index = index,\n",
    "\t                frames_per_buffer=CHUNK)\n",
    "\tprint (\"recording started\")\n",
    "\tRecordframes = []\n",
    "\tfor i in range(0, int(RATE / CHUNK * RECORD_SECONDS)):\n",
    "\t    data = stream.read(CHUNK)\n",
    "\t    Recordframes.append(data)\n",
    "\tprint (\"recording stopped\")\n",
    "\tstream.stop_stream()\n",
    "\tstream.close()\n",
    "\taudio.terminate()\n",
    "\tOUTPUT_FILENAME=\"sample.wav\"\n",
    "\tWAVE_OUTPUT_FILENAME=os.path.join(\"testing_set\",OUTPUT_FILENAME)\n",
    "\ttrainedfilelist = open(\"testing_set_addition.txt\", 'a')\n",
    "\ttrainedfilelist.write(OUTPUT_FILENAME+\"\\n\")\n",
    "\twaveFile = wave.open(WAVE_OUTPUT_FILENAME, 'wb')\n",
    "\twaveFile.setnchannels(CHANNELS)\n",
    "\twaveFile.setsampwidth(audio.get_sample_size(FORMAT))\n",
    "\twaveFile.setframerate(RATE)\n",
    "\twaveFile.writeframes(b''.join(Recordframes))\n",
    "\twaveFile.close()"
   ]
  },
  {
   "cell_type": "code",
   "execution_count": null,
   "id": "39b1821d-867f-49d2-b273-32fbc29f1d16",
   "metadata": {},
   "outputs": [
    {
     "name": "stdout",
     "output_type": "stream",
     "text": [
      "----------------------record device list---------------------\n",
      "Input Device id  0  -  iPhone Microphone\n",
      "Input Device id  1  -  MacBook Air Microphone\n",
      "-------------------------------------------------------------\n"
     ]
    },
    {
     "name": "stdin",
     "output_type": "stream",
     "text": [
      " 1\n"
     ]
    },
    {
     "name": "stdout",
     "output_type": "stream",
     "text": [
      "recording via index 1\n",
      "recording started\n"
     ]
    }
   ],
   "source": [
    "record_audio_test()"
   ]
  },
  {
   "cell_type": "code",
   "execution_count": 15,
   "id": "ebe0c652-d079-41e4-ad8f-5b300b478595",
   "metadata": {},
   "outputs": [],
   "source": [
    "def test_model():\n",
    "\n",
    "\tsource   = \"/Users/priyabratkumarbishwal/Documents/Techie/Python/SCBAccelerate/testing_set/\"  \n",
    "\tmodelpath = \"/Users/priyabratkumarbishwal/Documents/Techie/Python/SCBAccelerate/trained_models/\"\n",
    "\ttest_file = \"/Users/priyabratkumarbishwal/Documents/Techie/Python/SCBAccelerate/testing_set_addition.txt\"       \n",
    "\tfile_paths = open(test_file,'r')\n",
    "\t \n",
    "\tgmm_files = [os.path.join(modelpath,fname) for fname in\n",
    "\t              os.listdir(modelpath) if fname.endswith('.gmm')]\n",
    "\t \n",
    "\t#Load the Gaussian gender Models\n",
    "\tmodels    = [pickle.load(open(fname,'rb')) for fname in gmm_files]\n",
    "\tspeakers   = [fname.split(\"\\\\\")[-1].split(\".gmm\")[0] for fname \n",
    "\t              in gmm_files]\n",
    "\t \n",
    "\t# Read the test directory and get the list of test audio files \n",
    "\tfor path in file_paths:   \n",
    "\t     \n",
    "\t    path = path.strip()   \n",
    "\t    print(path)\n",
    "\t    sr,audio = read(source + path)\n",
    "\t    vector   = extract_features(audio,sr)\n",
    "\t     \n",
    "\t    log_likelihood = np.zeros(len(models)) \n",
    "\t    \n",
    "\t    for i in range(len(models)):\n",
    "\t        gmm    = models[i]  #checking with each model one by one\n",
    "\t        scores = np.array(gmm.score(vector))\n",
    "\t        log_likelihood[i] = scores.sum()\n",
    "\t     \n",
    "\t    winner = np.argmax(log_likelihood)\n",
    "\t    print(\"\\tdetected as - \", speakers[winner])\n",
    "\t    time.sleep(1.0)  "
   ]
  },
  {
   "cell_type": "code",
   "execution_count": 18,
   "id": "fc53f13d-75ae-4855-8205-00ee7a47f6e5",
   "metadata": {},
   "outputs": [
    {
     "name": "stdout",
     "output_type": "stream",
     "text": [
      "sample.wav\n",
      "[[-0.08129313  0.05725066  1.188978   ...  0.2074799  -0.61949529\n",
      "  -0.51959785]\n",
      " [-0.6904427  -1.30384154 -0.67571386 ...  0.52663831 -0.609395\n",
      "  -0.36954817]\n",
      " [-2.70529277 -2.78519029  1.85634806 ... -0.1449448  -0.10625497\n",
      "   0.0939083 ]\n",
      " ...\n",
      " [ 0.25284846 -1.81461326 -1.89981261 ...  0.08893606  0.02975997\n",
      "  -0.10701443]\n",
      " [ 0.12511353 -1.33917673 -1.46364711 ...  0.13854701 -0.45306907\n",
      "  -0.0743472 ]\n",
      " [-0.05565771 -1.21491051 -1.4005626  ...  0.03461598 -0.44501382\n",
      "  -0.05094169]]\n",
      "999\n",
      "20\n",
      "\tdetected as -  /Users/priyabratkumarbishwal/Documents/Techie/Python/SCBAccelerate/trained_models/Priyansh\n"
     ]
    }
   ],
   "source": [
    "test_model()"
   ]
  },
  {
   "cell_type": "code",
   "execution_count": null,
   "id": "d006eca7-1e2d-4d8e-8867-a130d117bf9b",
   "metadata": {},
   "outputs": [],
   "source": []
  }
 ],
 "metadata": {
  "kernelspec": {
   "display_name": "Python 3 (ipykernel)",
   "language": "python",
   "name": "python3"
  },
  "language_info": {
   "codemirror_mode": {
    "name": "ipython",
    "version": 3
   },
   "file_extension": ".py",
   "mimetype": "text/x-python",
   "name": "python",
   "nbconvert_exporter": "python",
   "pygments_lexer": "ipython3",
   "version": "3.9.6"
  }
 },
 "nbformat": 4,
 "nbformat_minor": 5
}
